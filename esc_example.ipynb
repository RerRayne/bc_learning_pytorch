{
 "cells": [
  {
   "cell_type": "code",
   "execution_count": 31,
   "metadata": {},
   "outputs": [],
   "source": [
    "import os\n",
    "\n",
    "import numpy as np\n",
    "import time\n",
    "import torch\n",
    "import pickle as pkl\n",
    "\n",
    "from torch.nn.modules.loss import KLDivLoss\n",
    "from torch.optim import SGD\n",
    "from torch.optim.lr_scheduler import MultiStepLR\n",
    "from torch.utils import data\n",
    "\n",
    "import models\n",
    "import opts\n",
    "from datasets import BCDatasets, tensor_to_numpy, get_train_transform, get_test_transform, IMG, LABEL\n",
    "from draw_process import draw_progress\n",
    "from models import weights_init\n",
    "\n",
    "DoubleTensor = None\n",
    "FloatTensor = None\n",
    "LongTensor = None\n",
    "ByteTensor = None\n",
    "\n",
    "from scatnet_python import *"
   ]
  },
  {
   "cell_type": "code",
   "execution_count": 36,
   "metadata": {},
   "outputs": [],
   "source": [
    "data_path = \"/workspace/esc\"\n",
    "dataset_name=\"esc10\"\n",
    "sr=16000\n",
    "exclude=[5]\n",
    "dataset = BCDatasets(data_path, dataset_name, sr, exclude,\n",
    "                     scattering_time_transform = True)"
   ]
  },
  {
   "cell_type": "code",
   "execution_count": 37,
   "metadata": {},
   "outputs": [
    {
     "name": "stdout",
     "output_type": "stream",
     "text": [
      "(220, 1, 46)\n",
      "(220, 1, 46)\n"
     ]
    },
    {
     "data": {
      "text/plain": [
       "320"
      ]
     },
     "execution_count": 37,
     "metadata": {},
     "output_type": "execute_result"
    }
   ],
   "source": [
    "#(channels, H, signal_length)\n",
    "print(dataset[0]['img'].shape)\n",
    "print(dataset[1]['img'].shape)\n",
    "\n",
    "len(dataset)"
   ]
  },
  {
   "cell_type": "code",
   "execution_count": 27,
   "metadata": {},
   "outputs": [
    {
     "name": "stdout",
     "output_type": "stream",
     "text": [
      "150.0\n",
      "11.0 14.0\n",
      "7700\n"
     ]
    }
   ],
   "source": [
    "# EnvNet layer shapes\n",
    "print(((24014-8+1) -8 + 1)/160)\n",
    "print(((40 - 8 + 1)/3 -1 + 1), ((150 - 13 + 1)/3 - 5 + 1)/3)\n",
    "print(11*14*50)"
   ]
  },
  {
   "cell_type": "code",
   "execution_count": null,
   "metadata": {},
   "outputs": [],
   "source": []
  }
 ],
 "metadata": {
  "kernelspec": {
   "display_name": "Python 3",
   "language": "python",
   "name": "python3"
  },
  "language_info": {
   "codemirror_mode": {
    "name": "ipython",
    "version": 3
   },
   "file_extension": ".py",
   "mimetype": "text/x-python",
   "name": "python",
   "nbconvert_exporter": "python",
   "pygments_lexer": "ipython3",
   "version": "3.6.5"
  }
 },
 "nbformat": 4,
 "nbformat_minor": 2
}
