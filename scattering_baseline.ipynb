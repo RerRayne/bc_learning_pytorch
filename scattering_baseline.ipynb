{
 "cells": [
  {
   "cell_type": "code",
   "execution_count": 3,
   "metadata": {},
   "outputs": [
    {
     "data": {
      "text/plain": [
       "19200"
      ]
     },
     "execution_count": 3,
     "metadata": {},
     "output_type": "execute_result"
    }
   ],
   "source": [
    "320*60"
   ]
  },
  {
   "cell_type": "code",
   "execution_count": 4,
   "metadata": {},
   "outputs": [],
   "source": [
    "import numpy as np\n",
    "\n",
    "from esc_utils import INPUT_LENGTH\n",
    "\n",
    "import sys\n",
    "sys.path.append(\"/workspace/jgusak/scatnet_python\")\n",
    "from scatnet_python import *\n",
    "\n",
    "\n",
    "from IPython.display import Audio\n",
    "\n",
    "import matplotlib.pylab as plt\n",
    "%matplotlib inline\n",
    "\n",
    "import numpy as np\n",
    "import torch\n",
    "from torch.autograd import Variable\n",
    "import torch.nn as nn\n",
    "import torch.nn.functional as F\n",
    "import torch.optim as optim"
   ]
  },
  {
   "cell_type": "code",
   "execution_count": 5,
   "metadata": {},
   "outputs": [],
   "source": [
    "import esc_utils as U\n",
    "\n",
    "def create_dataset(npz_path, split = 4, fs = 16000,\n",
    "                   augment_factor = 60,  strong = True):\n",
    "# tfrecord_pathes = pathes for train, val tfrecords    \n",
    "    with np.load(npz_path) as dataset:\n",
    "\n",
    "        train_sounds, train_labels = [], []\n",
    "        val_sounds, val_labels = [], []\n",
    "\n",
    "        for i, fold in enumerate(dataset.files):\n",
    "            sounds = dataset[fold].item()['sounds']\n",
    "            labels = dataset[fold].item()['labels']\n",
    "            \n",
    "            \n",
    "            # we'll add to dataset only samples with length >= 40000\n",
    "#             idxs = list(filter(lambda i: len(sounds[i]) >= 40000,\n",
    "#                                range(len(sounds))))\n",
    "#             sounds = list(np.array(sounds)[idxs])\n",
    "#             labels = list(np.array(labels)[idxs])\n",
    "            \n",
    "            print('Preprocessing sounds...')\n",
    "            sounds = [U.preprocess_sound(sound) for sound in sounds]\n",
    "#             print(len(sounds), len(labels))            \n",
    "                    \n",
    "            if i  == split:\n",
    "                val_sounds.extend(sounds)\n",
    "                val_labels.extend(labels)\n",
    "            else:\n",
    "                \n",
    "                print('Augmenting data...')\n",
    "                if augment_factor:\n",
    "                    augmented_sounds, augmented_labels = [], []\n",
    "                \n",
    "                    for sound, label in zip(sounds, labels):\n",
    "                        augmented_sounds.extend([U.augment_sound(sound, strong = strong)\n",
    "                                                 for _ in range(augment_factor)])\n",
    "                        augmented_labels.extend([label]*augment_factor)\n",
    "\n",
    "                    sounds.extend(augmented_sounds)\n",
    "                    labels.extend(augmented_labels) \n",
    "                \n",
    "                train_sounds.extend(sounds)\n",
    "                train_labels.extend(labels)\n",
    "                \n",
    "#         print(len(train_sounds), len(train_labels))\n",
    "#         print(len(val_sounds), len(val_labels))\n",
    "        \n",
    "        return np.array(train_sounds), np.array(train_labels), np.array(val_sounds), np.array(val_labels)"
   ]
  },
  {
   "cell_type": "code",
   "execution_count": 6,
   "metadata": {},
   "outputs": [
    {
     "name": "stdout",
     "output_type": "stream",
     "text": [
      "Preprocessing sounds...\n",
      "Augmenting data...\n",
      "Preprocessing sounds...\n",
      "Augmenting data...\n",
      "Preprocessing sounds...\n",
      "Augmenting data...\n",
      "Preprocessing sounds...\n",
      "Augmenting data...\n",
      "Preprocessing sounds...\n"
     ]
    }
   ],
   "source": [
    "npz_path = \"/workspace/esc/esc10/wav16.npz\"\n",
    "train_sounds, train_labels, val_sounds, val_labels = create_dataset(npz_path,\n",
    "                                                                        split = 4,\n",
    "                                                                        fs = 16000, augment_factor = 200)"
   ]
  },
  {
   "cell_type": "code",
   "execution_count": 11,
   "metadata": {},
   "outputs": [
    {
     "data": {
      "text/plain": [
       "((64320, 65536), (80, 65536))"
      ]
     },
     "execution_count": 11,
     "metadata": {},
     "output_type": "execute_result"
    }
   ],
   "source": [
    "train_sounds.shape, val_sounds.shape"
   ]
  },
  {
   "cell_type": "code",
   "execution_count": 6,
   "metadata": {},
   "outputs": [],
   "source": [
    "# Set size of averaging window T, and signal length N\n",
    "T = 2**10\n",
    "N = INPUT_LENGTH\n",
    "\n",
    "# Set filter bank options\n",
    "filt_opt_bank = [FiltOptions(Q = 8, T = T,\n",
    "                          filter_type = 'morlet_1d',\n",
    "                          boundary = 'symm'),\n",
    "             FiltOptions(Q = 1, T = T,\n",
    "                          filter_type = 'morlet_1d',\n",
    "                          boundary = 'symm')]\n",
    "# Set scattering options\n",
    "scat_opt = ScatOptions()\n",
    "scat_opt.M = 2\n",
    "\n",
    "# Create filter bank\n",
    "Wop, bank  = wavelet_factory_1d(N, filt_opt_bank, scat_opt)"
   ]
  },
  {
   "cell_type": "code",
   "execution_count": 7,
   "metadata": {},
   "outputs": [],
   "source": [
    "def count_scat(x, Wop):\n",
    "    S, _ = scat(x, Wop)\n",
    "    \n",
    "    S_table, _ = format_scat(log_scat(renorm_scat(S)), format_type = 'table')\n",
    "    print(S_table.shape)\n",
    "    return S_table    "
   ]
  },
  {
   "cell_type": "code",
   "execution_count": 10,
   "metadata": {},
   "outputs": [
    {
     "ename": "MemoryError",
     "evalue": "",
     "output_type": "error",
     "traceback": [
      "\u001b[0;31m---------------------------------------------------------------------------\u001b[0m",
      "\u001b[0;31mMemoryError\u001b[0m                               Traceback (most recent call last)",
      "\u001b[0;32m/workspace/jgusak/scatnet_python/scatnet_python/__init__.py\u001b[0m in \u001b[0;36m<module>\u001b[0;34m()\u001b[0m\n\u001b[0;32m----> 1\u001b[0;31m \u001b[0mS_table_train\u001b[0m \u001b[0;34m=\u001b[0m \u001b[0mcount_scat\u001b[0m\u001b[0;34m(\u001b[0m\u001b[0mtrain_sounds\u001b[0m\u001b[0;34m.\u001b[0m\u001b[0mT\u001b[0m\u001b[0;34m[\u001b[0m\u001b[0;34m:\u001b[0m\u001b[0;34m,\u001b[0m \u001b[0mnp\u001b[0m\u001b[0;34m.\u001b[0m\u001b[0mnewaxis\u001b[0m\u001b[0;34m,\u001b[0m\u001b[0;34m:\u001b[0m\u001b[0;34m]\u001b[0m\u001b[0;34m,\u001b[0m \u001b[0mWop\u001b[0m\u001b[0;34m)\u001b[0m\u001b[0;34m\u001b[0m\u001b[0m\n\u001b[0m\u001b[1;32m      2\u001b[0m \u001b[0mS_table_test\u001b[0m \u001b[0;34m=\u001b[0m \u001b[0mcount_scat\u001b[0m\u001b[0;34m(\u001b[0m\u001b[0mval_sounds\u001b[0m\u001b[0;34m.\u001b[0m\u001b[0mT\u001b[0m\u001b[0;34m[\u001b[0m\u001b[0;34m:\u001b[0m\u001b[0;34m,\u001b[0m \u001b[0mnp\u001b[0m\u001b[0;34m.\u001b[0m\u001b[0mnewaxis\u001b[0m\u001b[0;34m,\u001b[0m\u001b[0;34m:\u001b[0m\u001b[0;34m]\u001b[0m\u001b[0;34m,\u001b[0m \u001b[0mWop\u001b[0m\u001b[0;34m)\u001b[0m\u001b[0;34m\u001b[0m\u001b[0m\n",
      "\u001b[0;32m/workspace/jgusak/scatnet_python/scatnet_python/__init__.py\u001b[0m in \u001b[0;36mcount_scat\u001b[0;34m(x, Wop)\u001b[0m\n\u001b[1;32m      1\u001b[0m \u001b[0;32mdef\u001b[0m \u001b[0mcount_scat\u001b[0m\u001b[0;34m(\u001b[0m\u001b[0mx\u001b[0m\u001b[0;34m,\u001b[0m \u001b[0mWop\u001b[0m\u001b[0;34m)\u001b[0m\u001b[0;34m:\u001b[0m\u001b[0;34m\u001b[0m\u001b[0m\n\u001b[0;32m----> 2\u001b[0;31m     \u001b[0mS\u001b[0m\u001b[0;34m,\u001b[0m \u001b[0m_\u001b[0m \u001b[0;34m=\u001b[0m \u001b[0mscat\u001b[0m\u001b[0;34m(\u001b[0m\u001b[0mx\u001b[0m\u001b[0;34m,\u001b[0m \u001b[0mWop\u001b[0m\u001b[0;34m)\u001b[0m\u001b[0;34m\u001b[0m\u001b[0m\n\u001b[0m\u001b[1;32m      3\u001b[0m \u001b[0;34m\u001b[0m\u001b[0m\n\u001b[1;32m      4\u001b[0m     \u001b[0mS_table\u001b[0m\u001b[0;34m,\u001b[0m \u001b[0m_\u001b[0m \u001b[0;34m=\u001b[0m \u001b[0mformat_scat\u001b[0m\u001b[0;34m(\u001b[0m\u001b[0mlog_scat\u001b[0m\u001b[0;34m(\u001b[0m\u001b[0mrenorm_scat\u001b[0m\u001b[0;34m(\u001b[0m\u001b[0mS\u001b[0m\u001b[0;34m)\u001b[0m\u001b[0;34m)\u001b[0m\u001b[0;34m,\u001b[0m \u001b[0mformat_type\u001b[0m \u001b[0;34m=\u001b[0m \u001b[0;34m'table'\u001b[0m\u001b[0;34m)\u001b[0m\u001b[0;34m\u001b[0m\u001b[0m\n\u001b[1;32m      5\u001b[0m     \u001b[0mprint\u001b[0m\u001b[0;34m(\u001b[0m\u001b[0mS_table\u001b[0m\u001b[0;34m.\u001b[0m\u001b[0mshape\u001b[0m\u001b[0;34m)\u001b[0m\u001b[0;34m\u001b[0m\u001b[0m\n",
      "\u001b[0;32m/workspace/jgusak/scatnet_python/scatnet_python/core.py\u001b[0m in \u001b[0;36mscat\u001b[0;34m(x, Wop)\u001b[0m\n\u001b[1;32m    294\u001b[0m     \u001b[0;32mfor\u001b[0m \u001b[0mm\u001b[0m \u001b[0;32min\u001b[0m \u001b[0mrange\u001b[0m\u001b[0;34m(\u001b[0m\u001b[0mlen\u001b[0m\u001b[0;34m(\u001b[0m\u001b[0mWop\u001b[0m\u001b[0;34m)\u001b[0m\u001b[0;34m)\u001b[0m\u001b[0;34m:\u001b[0m\u001b[0;34m\u001b[0m\u001b[0m\n\u001b[1;32m    295\u001b[0m         \u001b[0;32mif\u001b[0m \u001b[0mm\u001b[0m \u001b[0;34m<\u001b[0m \u001b[0mlen\u001b[0m\u001b[0;34m(\u001b[0m\u001b[0mWop\u001b[0m\u001b[0;34m)\u001b[0m \u001b[0;34m-\u001b[0m \u001b[0;36m1\u001b[0m\u001b[0;34m:\u001b[0m\u001b[0;34m\u001b[0m\u001b[0m\n\u001b[0;32m--> 296\u001b[0;31m             \u001b[0mS\u001b[0m\u001b[0;34m[\u001b[0m\u001b[0mm\u001b[0m\u001b[0;34m]\u001b[0m\u001b[0;34m,\u001b[0m \u001b[0mV\u001b[0m \u001b[0;34m=\u001b[0m \u001b[0mWop\u001b[0m\u001b[0;34m[\u001b[0m\u001b[0mm\u001b[0m\u001b[0;34m]\u001b[0m\u001b[0;34m(\u001b[0m\u001b[0mUs\u001b[0m\u001b[0;34m[\u001b[0m\u001b[0mm\u001b[0m\u001b[0;34m]\u001b[0m\u001b[0;34m)\u001b[0m\u001b[0;34m\u001b[0m\u001b[0m\n\u001b[0m\u001b[1;32m    297\u001b[0m             \u001b[0mUs\u001b[0m\u001b[0;34m[\u001b[0m\u001b[0mm\u001b[0m\u001b[0;34m+\u001b[0m\u001b[0;36m1\u001b[0m\u001b[0;34m]\u001b[0m \u001b[0;34m=\u001b[0m \u001b[0mmodulus_layer\u001b[0m\u001b[0;34m(\u001b[0m\u001b[0mV\u001b[0m\u001b[0;34m)\u001b[0m\u001b[0;34m\u001b[0m\u001b[0m\n\u001b[1;32m    298\u001b[0m         \u001b[0;32melse\u001b[0m\u001b[0;34m:\u001b[0m\u001b[0;34m\u001b[0m\u001b[0m\n",
      "\u001b[0;32m/workspace/jgusak/scatnet_python/scatnet_python/core.py\u001b[0m in \u001b[0;36mwavelet_layer_1d\u001b[0;34m(U, filters, scat_opt)\u001b[0m\n\u001b[1;32m    194\u001b[0m         x_phi, x_psi, meta_phi, meta_psi = wavelet_1d(U.signal[p1],\n\u001b[1;32m    195\u001b[0m                                                       \u001b[0mfilters\u001b[0m\u001b[0;34m,\u001b[0m\u001b[0;34m\u001b[0m\u001b[0m\n\u001b[0;32m--> 196\u001b[0;31m                                                       scat_opt)\n\u001b[0m\u001b[1;32m    197\u001b[0m         \u001b[0;31m# проверить все ниже!\u001b[0m\u001b[0;34m\u001b[0m\u001b[0;34m\u001b[0m\u001b[0m\n\u001b[1;32m    198\u001b[0m         \u001b[0mU_phi\u001b[0m\u001b[0;34m.\u001b[0m\u001b[0msignal\u001b[0m\u001b[0;34m.\u001b[0m\u001b[0mappend\u001b[0m\u001b[0;34m(\u001b[0m\u001b[0mx_phi\u001b[0m\u001b[0;34m)\u001b[0m\u001b[0;34m\u001b[0m\u001b[0m\n",
      "\u001b[0;32m/workspace/jgusak/scatnet_python/scatnet_python/core.py\u001b[0m in \u001b[0;36mwavelet_1d\u001b[0;34m(x, filters, options)\u001b[0m\n\u001b[1;32m     83\u001b[0m \u001b[0;34m\u001b[0m\u001b[0m\n\u001b[1;32m     84\u001b[0m     \u001b[0;31m# mklt_fft.fft make fft along columns\u001b[0m\u001b[0;34m\u001b[0m\u001b[0;34m\u001b[0m\u001b[0m\n\u001b[0;32m---> 85\u001b[0;31m     \u001b[0mx_fft\u001b[0m \u001b[0;34m=\u001b[0m \u001b[0mmkl_fft\u001b[0m\u001b[0;34m.\u001b[0m\u001b[0mfft\u001b[0m\u001b[0;34m(\u001b[0m\u001b[0mx\u001b[0m\u001b[0;34m.\u001b[0m\u001b[0mT\u001b[0m\u001b[0;34m)\u001b[0m\u001b[0;34m.\u001b[0m\u001b[0mT\u001b[0m\u001b[0;34m\u001b[0m\u001b[0m\n\u001b[0m\u001b[1;32m     86\u001b[0m     \u001b[0;31m# print('inside wavelet_1d: x_fft shape:', x_fft.shape)\u001b[0m\u001b[0;34m\u001b[0m\u001b[0;34m\u001b[0m\u001b[0m\n\u001b[1;32m     87\u001b[0m     \u001b[0;31m# print(x_fft[:10,0])\u001b[0m\u001b[0;34m\u001b[0m\u001b[0;34m\u001b[0m\u001b[0m\n",
      "\u001b[0;32mmkl_fft/_pydfti.pyx\u001b[0m in \u001b[0;36mmkl_fft._pydfti.fft\u001b[0;34m()\u001b[0m\n",
      "\u001b[0;32mmkl_fft/_pydfti.pyx\u001b[0m in \u001b[0;36mmkl_fft._pydfti._fft1d_impl\u001b[0;34m()\u001b[0m\n",
      "\u001b[0;32mmkl_fft/_pydfti.pyx\u001b[0m in \u001b[0;36mmkl_fft._pydfti.__allocate_result\u001b[0;34m()\u001b[0m\n",
      "\u001b[0;31mMemoryError\u001b[0m: "
     ]
    }
   ],
   "source": [
    "S_table_train = count_scat(train_sounds.T[:, np.newaxis,:], Wop)\n",
    "S_table_test = count_scat(val_sounds.T[:, np.newaxis,:], Wop)"
   ]
  },
  {
   "cell_type": "code",
   "execution_count": null,
   "metadata": {},
   "outputs": [],
   "source": [
    "esc_save_path = '/workspace/jgusak/Data/esc_saved'\n",
    "\n",
    "# Uncomment the lines below if you want to save counted coefficients\n",
    "\n",
    "# np.save(esc_save_path+'esc10_wav16_augfactor9_train_x', S_tables[0])\n",
    "# np.save(esc_save_path+'esc10_wav16_augfactor9_train_y', labels[0])\n",
    "\n",
    "# np.save(esc_save_path+'esc10_wav16_val_x', S_tables[1])\n",
    "# np.save(esc_save_path+'esc10_wav16_val_y', labels[1])\n",
    "\n",
    "# X_train = S_tables[0]\n",
    "# y_train = labels[0]\n",
    "\n",
    "# X_val = S_tables[1]\n",
    "# y_val = labels[1]"
   ]
  }
 ],
 "metadata": {
  "kernelspec": {
   "display_name": "Python 3",
   "language": "python",
   "name": "python3"
  },
  "language_info": {
   "codemirror_mode": {
    "name": "ipython",
    "version": 3
   },
   "file_extension": ".py",
   "mimetype": "text/x-python",
   "name": "python",
   "nbconvert_exporter": "python",
   "pygments_lexer": "ipython3",
   "version": "3.6.5"
  }
 },
 "nbformat": 4,
 "nbformat_minor": 2
}
